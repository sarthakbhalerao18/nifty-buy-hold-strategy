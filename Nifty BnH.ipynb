{
 "cells": [
  {
   "cell_type": "markdown",
   "id": "e1982bc7",
   "metadata": {},
   "source": [
    "# Strategy: Buy and Hold #"
   ]
  },
  {
   "cell_type": "markdown",
   "id": "9fc5cf74",
   "metadata": {},
   "source": [
    "## 1) Preparing the Data ##"
   ]
  },
  {
   "cell_type": "code",
   "execution_count": 1,
   "id": "8443f1d4",
   "metadata": {},
   "outputs": [],
   "source": [
    "# Importing the necessary libraries\n",
    "\n",
    "import pandas as pd\n",
    "import numpy as np \n",
    "import matplotlib.pyplot as plt\n",
    "import warnings\n",
    "\n",
    "import yfinance as yf\n",
    "\n",
    "warnings.filterwarnings('ignore') "
   ]
  },
  {
   "cell_type": "code",
   "execution_count": 2,
   "id": "0d3977e3",
   "metadata": {},
   "outputs": [
    {
     "name": "stdout",
     "output_type": "stream",
     "text": [
      "[*********************100%%**********************]  1 of 1 completed\n"
     ]
    }
   ],
   "source": [
    "# Importing the data\n",
    "\n",
    "data = yf.download(\"^NSEI\", start=\"2013-12-02\", end=\"2023-12-02\", interval='1d')"
   ]
  },
  {
   "cell_type": "code",
   "execution_count": 3,
   "id": "0bc6f2fc",
   "metadata": {},
   "outputs": [
    {
     "data": {
      "text/html": [
       "<div>\n",
       "<style scoped>\n",
       "    .dataframe tbody tr th:only-of-type {\n",
       "        vertical-align: middle;\n",
       "    }\n",
       "\n",
       "    .dataframe tbody tr th {\n",
       "        vertical-align: top;\n",
       "    }\n",
       "\n",
       "    .dataframe thead th {\n",
       "        text-align: right;\n",
       "    }\n",
       "</style>\n",
       "<table border=\"1\" class=\"dataframe\">\n",
       "  <thead>\n",
       "    <tr style=\"text-align: right;\">\n",
       "      <th></th>\n",
       "      <th>Open</th>\n",
       "      <th>High</th>\n",
       "      <th>Low</th>\n",
       "      <th>Close</th>\n",
       "      <th>Adj Close</th>\n",
       "      <th>Volume</th>\n",
       "    </tr>\n",
       "    <tr>\n",
       "      <th>Date</th>\n",
       "      <th></th>\n",
       "      <th></th>\n",
       "      <th></th>\n",
       "      <th></th>\n",
       "      <th></th>\n",
       "      <th></th>\n",
       "    </tr>\n",
       "  </thead>\n",
       "  <tbody>\n",
       "    <tr>\n",
       "      <th>2013-12-02</th>\n",
       "      <td>6171.149902</td>\n",
       "      <td>6228.700195</td>\n",
       "      <td>6171.149902</td>\n",
       "      <td>6217.850098</td>\n",
       "      <td>6217.850098</td>\n",
       "      <td>145900</td>\n",
       "    </tr>\n",
       "    <tr>\n",
       "      <th>2013-12-03</th>\n",
       "      <td>6204.250000</td>\n",
       "      <td>6225.399902</td>\n",
       "      <td>6191.399902</td>\n",
       "      <td>6201.850098</td>\n",
       "      <td>6201.850098</td>\n",
       "      <td>156900</td>\n",
       "    </tr>\n",
       "    <tr>\n",
       "      <th>2013-12-04</th>\n",
       "      <td>6187.950195</td>\n",
       "      <td>6209.149902</td>\n",
       "      <td>6149.899902</td>\n",
       "      <td>6160.950195</td>\n",
       "      <td>6160.950195</td>\n",
       "      <td>186200</td>\n",
       "    </tr>\n",
       "    <tr>\n",
       "      <th>2013-12-05</th>\n",
       "      <td>6262.450195</td>\n",
       "      <td>6300.549805</td>\n",
       "      <td>6232.000000</td>\n",
       "      <td>6241.100098</td>\n",
       "      <td>6241.100098</td>\n",
       "      <td>186100</td>\n",
       "    </tr>\n",
       "    <tr>\n",
       "      <th>2013-12-06</th>\n",
       "      <td>6234.399902</td>\n",
       "      <td>6275.350098</td>\n",
       "      <td>6230.750000</td>\n",
       "      <td>6259.899902</td>\n",
       "      <td>6259.899902</td>\n",
       "      <td>158500</td>\n",
       "    </tr>\n",
       "    <tr>\n",
       "      <th>...</th>\n",
       "      <td>...</td>\n",
       "      <td>...</td>\n",
       "      <td>...</td>\n",
       "      <td>...</td>\n",
       "      <td>...</td>\n",
       "      <td>...</td>\n",
       "    </tr>\n",
       "    <tr>\n",
       "      <th>2023-11-24</th>\n",
       "      <td>19809.599609</td>\n",
       "      <td>19832.849609</td>\n",
       "      <td>19768.849609</td>\n",
       "      <td>19794.699219</td>\n",
       "      <td>19794.699219</td>\n",
       "      <td>145900</td>\n",
       "    </tr>\n",
       "    <tr>\n",
       "      <th>2023-11-28</th>\n",
       "      <td>19844.650391</td>\n",
       "      <td>19916.849609</td>\n",
       "      <td>19800.000000</td>\n",
       "      <td>19889.699219</td>\n",
       "      <td>19889.699219</td>\n",
       "      <td>229600</td>\n",
       "    </tr>\n",
       "    <tr>\n",
       "      <th>2023-11-29</th>\n",
       "      <td>19976.550781</td>\n",
       "      <td>20104.650391</td>\n",
       "      <td>19956.300781</td>\n",
       "      <td>20096.599609</td>\n",
       "      <td>20096.599609</td>\n",
       "      <td>236200</td>\n",
       "    </tr>\n",
       "    <tr>\n",
       "      <th>2023-11-30</th>\n",
       "      <td>20108.500000</td>\n",
       "      <td>20158.699219</td>\n",
       "      <td>20015.849609</td>\n",
       "      <td>20133.150391</td>\n",
       "      <td>20133.150391</td>\n",
       "      <td>486600</td>\n",
       "    </tr>\n",
       "    <tr>\n",
       "      <th>2023-12-01</th>\n",
       "      <td>20194.099609</td>\n",
       "      <td>20291.550781</td>\n",
       "      <td>20183.699219</td>\n",
       "      <td>20267.900391</td>\n",
       "      <td>20267.900391</td>\n",
       "      <td>265800</td>\n",
       "    </tr>\n",
       "  </tbody>\n",
       "</table>\n",
       "<p>2455 rows × 6 columns</p>\n",
       "</div>"
      ],
      "text/plain": [
       "                    Open          High           Low         Close  \\\n",
       "Date                                                                 \n",
       "2013-12-02   6171.149902   6228.700195   6171.149902   6217.850098   \n",
       "2013-12-03   6204.250000   6225.399902   6191.399902   6201.850098   \n",
       "2013-12-04   6187.950195   6209.149902   6149.899902   6160.950195   \n",
       "2013-12-05   6262.450195   6300.549805   6232.000000   6241.100098   \n",
       "2013-12-06   6234.399902   6275.350098   6230.750000   6259.899902   \n",
       "...                  ...           ...           ...           ...   \n",
       "2023-11-24  19809.599609  19832.849609  19768.849609  19794.699219   \n",
       "2023-11-28  19844.650391  19916.849609  19800.000000  19889.699219   \n",
       "2023-11-29  19976.550781  20104.650391  19956.300781  20096.599609   \n",
       "2023-11-30  20108.500000  20158.699219  20015.849609  20133.150391   \n",
       "2023-12-01  20194.099609  20291.550781  20183.699219  20267.900391   \n",
       "\n",
       "               Adj Close  Volume  \n",
       "Date                              \n",
       "2013-12-02   6217.850098  145900  \n",
       "2013-12-03   6201.850098  156900  \n",
       "2013-12-04   6160.950195  186200  \n",
       "2013-12-05   6241.100098  186100  \n",
       "2013-12-06   6259.899902  158500  \n",
       "...                  ...     ...  \n",
       "2023-11-24  19794.699219  145900  \n",
       "2023-11-28  19889.699219  229600  \n",
       "2023-11-29  20096.599609  236200  \n",
       "2023-11-30  20133.150391  486600  \n",
       "2023-12-01  20267.900391  265800  \n",
       "\n",
       "[2455 rows x 6 columns]"
      ]
     },
     "execution_count": 3,
     "metadata": {},
     "output_type": "execute_result"
    }
   ],
   "source": [
    "# checking the data\n",
    "\n",
    "data"
   ]
  },
  {
   "cell_type": "code",
   "execution_count": 4,
   "id": "9085c61d",
   "metadata": {},
   "outputs": [
    {
     "data": {
      "text/html": [
       "<div>\n",
       "<style scoped>\n",
       "    .dataframe tbody tr th:only-of-type {\n",
       "        vertical-align: middle;\n",
       "    }\n",
       "\n",
       "    .dataframe tbody tr th {\n",
       "        vertical-align: top;\n",
       "    }\n",
       "\n",
       "    .dataframe thead th {\n",
       "        text-align: right;\n",
       "    }\n",
       "</style>\n",
       "<table border=\"1\" class=\"dataframe\">\n",
       "  <thead>\n",
       "    <tr style=\"text-align: right;\">\n",
       "      <th></th>\n",
       "      <th>Open</th>\n",
       "      <th>High</th>\n",
       "      <th>Low</th>\n",
       "      <th>Close</th>\n",
       "      <th>Adj Close</th>\n",
       "      <th>Volume</th>\n",
       "    </tr>\n",
       "    <tr>\n",
       "      <th>Date</th>\n",
       "      <th></th>\n",
       "      <th></th>\n",
       "      <th></th>\n",
       "      <th></th>\n",
       "      <th></th>\n",
       "      <th></th>\n",
       "    </tr>\n",
       "  </thead>\n",
       "  <tbody>\n",
       "    <tr>\n",
       "      <th>2013-12-02</th>\n",
       "      <td>6171.149902</td>\n",
       "      <td>6228.700195</td>\n",
       "      <td>6171.149902</td>\n",
       "      <td>6217.850098</td>\n",
       "      <td>6217.850098</td>\n",
       "      <td>145900</td>\n",
       "    </tr>\n",
       "    <tr>\n",
       "      <th>2013-12-03</th>\n",
       "      <td>6204.250000</td>\n",
       "      <td>6225.399902</td>\n",
       "      <td>6191.399902</td>\n",
       "      <td>6201.850098</td>\n",
       "      <td>6201.850098</td>\n",
       "      <td>156900</td>\n",
       "    </tr>\n",
       "    <tr>\n",
       "      <th>2013-12-04</th>\n",
       "      <td>6187.950195</td>\n",
       "      <td>6209.149902</td>\n",
       "      <td>6149.899902</td>\n",
       "      <td>6160.950195</td>\n",
       "      <td>6160.950195</td>\n",
       "      <td>186200</td>\n",
       "    </tr>\n",
       "    <tr>\n",
       "      <th>2013-12-05</th>\n",
       "      <td>6262.450195</td>\n",
       "      <td>6300.549805</td>\n",
       "      <td>6232.000000</td>\n",
       "      <td>6241.100098</td>\n",
       "      <td>6241.100098</td>\n",
       "      <td>186100</td>\n",
       "    </tr>\n",
       "    <tr>\n",
       "      <th>2013-12-06</th>\n",
       "      <td>6234.399902</td>\n",
       "      <td>6275.350098</td>\n",
       "      <td>6230.750000</td>\n",
       "      <td>6259.899902</td>\n",
       "      <td>6259.899902</td>\n",
       "      <td>158500</td>\n",
       "    </tr>\n",
       "  </tbody>\n",
       "</table>\n",
       "</div>"
      ],
      "text/plain": [
       "                   Open         High          Low        Close    Adj Close  \\\n",
       "Date                                                                          \n",
       "2013-12-02  6171.149902  6228.700195  6171.149902  6217.850098  6217.850098   \n",
       "2013-12-03  6204.250000  6225.399902  6191.399902  6201.850098  6201.850098   \n",
       "2013-12-04  6187.950195  6209.149902  6149.899902  6160.950195  6160.950195   \n",
       "2013-12-05  6262.450195  6300.549805  6232.000000  6241.100098  6241.100098   \n",
       "2013-12-06  6234.399902  6275.350098  6230.750000  6259.899902  6259.899902   \n",
       "\n",
       "            Volume  \n",
       "Date                \n",
       "2013-12-02  145900  \n",
       "2013-12-03  156900  \n",
       "2013-12-04  186200  \n",
       "2013-12-05  186100  \n",
       "2013-12-06  158500  "
      ]
     },
     "execution_count": 4,
     "metadata": {},
     "output_type": "execute_result"
    }
   ],
   "source": [
    "# checking the head\n",
    "\n",
    "data.head()"
   ]
  },
  {
   "cell_type": "code",
   "execution_count": 5,
   "id": "1d53a7e7",
   "metadata": {},
   "outputs": [
    {
     "data": {
      "text/html": [
       "<div>\n",
       "<style scoped>\n",
       "    .dataframe tbody tr th:only-of-type {\n",
       "        vertical-align: middle;\n",
       "    }\n",
       "\n",
       "    .dataframe tbody tr th {\n",
       "        vertical-align: top;\n",
       "    }\n",
       "\n",
       "    .dataframe thead th {\n",
       "        text-align: right;\n",
       "    }\n",
       "</style>\n",
       "<table border=\"1\" class=\"dataframe\">\n",
       "  <thead>\n",
       "    <tr style=\"text-align: right;\">\n",
       "      <th></th>\n",
       "      <th>Open</th>\n",
       "      <th>High</th>\n",
       "      <th>Low</th>\n",
       "      <th>Close</th>\n",
       "      <th>Adj Close</th>\n",
       "      <th>Volume</th>\n",
       "    </tr>\n",
       "    <tr>\n",
       "      <th>Date</th>\n",
       "      <th></th>\n",
       "      <th></th>\n",
       "      <th></th>\n",
       "      <th></th>\n",
       "      <th></th>\n",
       "      <th></th>\n",
       "    </tr>\n",
       "  </thead>\n",
       "  <tbody>\n",
       "    <tr>\n",
       "      <th>2023-11-24</th>\n",
       "      <td>19809.599609</td>\n",
       "      <td>19832.849609</td>\n",
       "      <td>19768.849609</td>\n",
       "      <td>19794.699219</td>\n",
       "      <td>19794.699219</td>\n",
       "      <td>145900</td>\n",
       "    </tr>\n",
       "    <tr>\n",
       "      <th>2023-11-28</th>\n",
       "      <td>19844.650391</td>\n",
       "      <td>19916.849609</td>\n",
       "      <td>19800.000000</td>\n",
       "      <td>19889.699219</td>\n",
       "      <td>19889.699219</td>\n",
       "      <td>229600</td>\n",
       "    </tr>\n",
       "    <tr>\n",
       "      <th>2023-11-29</th>\n",
       "      <td>19976.550781</td>\n",
       "      <td>20104.650391</td>\n",
       "      <td>19956.300781</td>\n",
       "      <td>20096.599609</td>\n",
       "      <td>20096.599609</td>\n",
       "      <td>236200</td>\n",
       "    </tr>\n",
       "    <tr>\n",
       "      <th>2023-11-30</th>\n",
       "      <td>20108.500000</td>\n",
       "      <td>20158.699219</td>\n",
       "      <td>20015.849609</td>\n",
       "      <td>20133.150391</td>\n",
       "      <td>20133.150391</td>\n",
       "      <td>486600</td>\n",
       "    </tr>\n",
       "    <tr>\n",
       "      <th>2023-12-01</th>\n",
       "      <td>20194.099609</td>\n",
       "      <td>20291.550781</td>\n",
       "      <td>20183.699219</td>\n",
       "      <td>20267.900391</td>\n",
       "      <td>20267.900391</td>\n",
       "      <td>265800</td>\n",
       "    </tr>\n",
       "  </tbody>\n",
       "</table>\n",
       "</div>"
      ],
      "text/plain": [
       "                    Open          High           Low         Close  \\\n",
       "Date                                                                 \n",
       "2023-11-24  19809.599609  19832.849609  19768.849609  19794.699219   \n",
       "2023-11-28  19844.650391  19916.849609  19800.000000  19889.699219   \n",
       "2023-11-29  19976.550781  20104.650391  19956.300781  20096.599609   \n",
       "2023-11-30  20108.500000  20158.699219  20015.849609  20133.150391   \n",
       "2023-12-01  20194.099609  20291.550781  20183.699219  20267.900391   \n",
       "\n",
       "               Adj Close  Volume  \n",
       "Date                              \n",
       "2023-11-24  19794.699219  145900  \n",
       "2023-11-28  19889.699219  229600  \n",
       "2023-11-29  20096.599609  236200  \n",
       "2023-11-30  20133.150391  486600  \n",
       "2023-12-01  20267.900391  265800  "
      ]
     },
     "execution_count": 5,
     "metadata": {},
     "output_type": "execute_result"
    }
   ],
   "source": [
    "# checking the tail \n",
    "\n",
    "data.tail()"
   ]
  },
  {
   "cell_type": "code",
   "execution_count": 6,
   "id": "eef86df4",
   "metadata": {},
   "outputs": [
    {
     "data": {
      "text/plain": [
       "pandas.core.frame.DataFrame"
      ]
     },
     "execution_count": 6,
     "metadata": {},
     "output_type": "execute_result"
    }
   ],
   "source": [
    "# checking the type of object\n",
    "\n",
    "type(data)"
   ]
  },
  {
   "cell_type": "code",
   "execution_count": 7,
   "id": "b1a292e7",
   "metadata": {},
   "outputs": [],
   "source": [
    "# rounding off the data to 2 decimals\n",
    "\n",
    "df = round(data,2)"
   ]
  },
  {
   "cell_type": "code",
   "execution_count": 8,
   "id": "19e7dedc",
   "metadata": {},
   "outputs": [
    {
     "data": {
      "text/html": [
       "<div>\n",
       "<style scoped>\n",
       "    .dataframe tbody tr th:only-of-type {\n",
       "        vertical-align: middle;\n",
       "    }\n",
       "\n",
       "    .dataframe tbody tr th {\n",
       "        vertical-align: top;\n",
       "    }\n",
       "\n",
       "    .dataframe thead th {\n",
       "        text-align: right;\n",
       "    }\n",
       "</style>\n",
       "<table border=\"1\" class=\"dataframe\">\n",
       "  <thead>\n",
       "    <tr style=\"text-align: right;\">\n",
       "      <th></th>\n",
       "      <th>Open</th>\n",
       "      <th>High</th>\n",
       "      <th>Low</th>\n",
       "      <th>Close</th>\n",
       "      <th>Adj Close</th>\n",
       "      <th>Volume</th>\n",
       "    </tr>\n",
       "    <tr>\n",
       "      <th>Date</th>\n",
       "      <th></th>\n",
       "      <th></th>\n",
       "      <th></th>\n",
       "      <th></th>\n",
       "      <th></th>\n",
       "      <th></th>\n",
       "    </tr>\n",
       "  </thead>\n",
       "  <tbody>\n",
       "    <tr>\n",
       "      <th>2013-12-02</th>\n",
       "      <td>6171.15</td>\n",
       "      <td>6228.70</td>\n",
       "      <td>6171.15</td>\n",
       "      <td>6217.85</td>\n",
       "      <td>6217.85</td>\n",
       "      <td>145900</td>\n",
       "    </tr>\n",
       "    <tr>\n",
       "      <th>2013-12-03</th>\n",
       "      <td>6204.25</td>\n",
       "      <td>6225.40</td>\n",
       "      <td>6191.40</td>\n",
       "      <td>6201.85</td>\n",
       "      <td>6201.85</td>\n",
       "      <td>156900</td>\n",
       "    </tr>\n",
       "    <tr>\n",
       "      <th>2013-12-04</th>\n",
       "      <td>6187.95</td>\n",
       "      <td>6209.15</td>\n",
       "      <td>6149.90</td>\n",
       "      <td>6160.95</td>\n",
       "      <td>6160.95</td>\n",
       "      <td>186200</td>\n",
       "    </tr>\n",
       "    <tr>\n",
       "      <th>2013-12-05</th>\n",
       "      <td>6262.45</td>\n",
       "      <td>6300.55</td>\n",
       "      <td>6232.00</td>\n",
       "      <td>6241.10</td>\n",
       "      <td>6241.10</td>\n",
       "      <td>186100</td>\n",
       "    </tr>\n",
       "    <tr>\n",
       "      <th>2013-12-06</th>\n",
       "      <td>6234.40</td>\n",
       "      <td>6275.35</td>\n",
       "      <td>6230.75</td>\n",
       "      <td>6259.90</td>\n",
       "      <td>6259.90</td>\n",
       "      <td>158500</td>\n",
       "    </tr>\n",
       "    <tr>\n",
       "      <th>...</th>\n",
       "      <td>...</td>\n",
       "      <td>...</td>\n",
       "      <td>...</td>\n",
       "      <td>...</td>\n",
       "      <td>...</td>\n",
       "      <td>...</td>\n",
       "    </tr>\n",
       "    <tr>\n",
       "      <th>2023-11-24</th>\n",
       "      <td>19809.60</td>\n",
       "      <td>19832.85</td>\n",
       "      <td>19768.85</td>\n",
       "      <td>19794.70</td>\n",
       "      <td>19794.70</td>\n",
       "      <td>145900</td>\n",
       "    </tr>\n",
       "    <tr>\n",
       "      <th>2023-11-28</th>\n",
       "      <td>19844.65</td>\n",
       "      <td>19916.85</td>\n",
       "      <td>19800.00</td>\n",
       "      <td>19889.70</td>\n",
       "      <td>19889.70</td>\n",
       "      <td>229600</td>\n",
       "    </tr>\n",
       "    <tr>\n",
       "      <th>2023-11-29</th>\n",
       "      <td>19976.55</td>\n",
       "      <td>20104.65</td>\n",
       "      <td>19956.30</td>\n",
       "      <td>20096.60</td>\n",
       "      <td>20096.60</td>\n",
       "      <td>236200</td>\n",
       "    </tr>\n",
       "    <tr>\n",
       "      <th>2023-11-30</th>\n",
       "      <td>20108.50</td>\n",
       "      <td>20158.70</td>\n",
       "      <td>20015.85</td>\n",
       "      <td>20133.15</td>\n",
       "      <td>20133.15</td>\n",
       "      <td>486600</td>\n",
       "    </tr>\n",
       "    <tr>\n",
       "      <th>2023-12-01</th>\n",
       "      <td>20194.10</td>\n",
       "      <td>20291.55</td>\n",
       "      <td>20183.70</td>\n",
       "      <td>20267.90</td>\n",
       "      <td>20267.90</td>\n",
       "      <td>265800</td>\n",
       "    </tr>\n",
       "  </tbody>\n",
       "</table>\n",
       "<p>2455 rows × 6 columns</p>\n",
       "</div>"
      ],
      "text/plain": [
       "                Open      High       Low     Close  Adj Close  Volume\n",
       "Date                                                                 \n",
       "2013-12-02   6171.15   6228.70   6171.15   6217.85    6217.85  145900\n",
       "2013-12-03   6204.25   6225.40   6191.40   6201.85    6201.85  156900\n",
       "2013-12-04   6187.95   6209.15   6149.90   6160.95    6160.95  186200\n",
       "2013-12-05   6262.45   6300.55   6232.00   6241.10    6241.10  186100\n",
       "2013-12-06   6234.40   6275.35   6230.75   6259.90    6259.90  158500\n",
       "...              ...       ...       ...       ...        ...     ...\n",
       "2023-11-24  19809.60  19832.85  19768.85  19794.70   19794.70  145900\n",
       "2023-11-28  19844.65  19916.85  19800.00  19889.70   19889.70  229600\n",
       "2023-11-29  19976.55  20104.65  19956.30  20096.60   20096.60  236200\n",
       "2023-11-30  20108.50  20158.70  20015.85  20133.15   20133.15  486600\n",
       "2023-12-01  20194.10  20291.55  20183.70  20267.90   20267.90  265800\n",
       "\n",
       "[2455 rows x 6 columns]"
      ]
     },
     "execution_count": 8,
     "metadata": {},
     "output_type": "execute_result"
    }
   ],
   "source": [
    "df"
   ]
  },
  {
   "cell_type": "code",
   "execution_count": 45,
   "id": "a0cdce7e",
   "metadata": {},
   "outputs": [],
   "source": [
    "# creating a new column to calculate daily log returns \n",
    "\n",
    "df['Prev Close'] = df['Adj Close'].shift(1)"
   ]
  },
  {
   "cell_type": "code",
   "execution_count": 46,
   "id": "7d887045",
   "metadata": {},
   "outputs": [
    {
     "data": {
      "text/html": [
       "<div>\n",
       "<style scoped>\n",
       "    .dataframe tbody tr th:only-of-type {\n",
       "        vertical-align: middle;\n",
       "    }\n",
       "\n",
       "    .dataframe tbody tr th {\n",
       "        vertical-align: top;\n",
       "    }\n",
       "\n",
       "    .dataframe thead th {\n",
       "        text-align: right;\n",
       "    }\n",
       "</style>\n",
       "<table border=\"1\" class=\"dataframe\">\n",
       "  <thead>\n",
       "    <tr style=\"text-align: right;\">\n",
       "      <th></th>\n",
       "      <th>Open</th>\n",
       "      <th>High</th>\n",
       "      <th>Low</th>\n",
       "      <th>Close</th>\n",
       "      <th>Adj Close</th>\n",
       "      <th>Volume</th>\n",
       "      <th>Prev Close</th>\n",
       "    </tr>\n",
       "    <tr>\n",
       "      <th>Date</th>\n",
       "      <th></th>\n",
       "      <th></th>\n",
       "      <th></th>\n",
       "      <th></th>\n",
       "      <th></th>\n",
       "      <th></th>\n",
       "      <th></th>\n",
       "    </tr>\n",
       "  </thead>\n",
       "  <tbody>\n",
       "    <tr>\n",
       "      <th>2013-12-02</th>\n",
       "      <td>6171.15</td>\n",
       "      <td>6228.70</td>\n",
       "      <td>6171.15</td>\n",
       "      <td>6217.85</td>\n",
       "      <td>6217.85</td>\n",
       "      <td>145900</td>\n",
       "      <td>NaN</td>\n",
       "    </tr>\n",
       "    <tr>\n",
       "      <th>2013-12-03</th>\n",
       "      <td>6204.25</td>\n",
       "      <td>6225.40</td>\n",
       "      <td>6191.40</td>\n",
       "      <td>6201.85</td>\n",
       "      <td>6201.85</td>\n",
       "      <td>156900</td>\n",
       "      <td>6217.85</td>\n",
       "    </tr>\n",
       "    <tr>\n",
       "      <th>2013-12-04</th>\n",
       "      <td>6187.95</td>\n",
       "      <td>6209.15</td>\n",
       "      <td>6149.90</td>\n",
       "      <td>6160.95</td>\n",
       "      <td>6160.95</td>\n",
       "      <td>186200</td>\n",
       "      <td>6201.85</td>\n",
       "    </tr>\n",
       "    <tr>\n",
       "      <th>2013-12-05</th>\n",
       "      <td>6262.45</td>\n",
       "      <td>6300.55</td>\n",
       "      <td>6232.00</td>\n",
       "      <td>6241.10</td>\n",
       "      <td>6241.10</td>\n",
       "      <td>186100</td>\n",
       "      <td>6160.95</td>\n",
       "    </tr>\n",
       "    <tr>\n",
       "      <th>2013-12-06</th>\n",
       "      <td>6234.40</td>\n",
       "      <td>6275.35</td>\n",
       "      <td>6230.75</td>\n",
       "      <td>6259.90</td>\n",
       "      <td>6259.90</td>\n",
       "      <td>158500</td>\n",
       "      <td>6241.10</td>\n",
       "    </tr>\n",
       "    <tr>\n",
       "      <th>...</th>\n",
       "      <td>...</td>\n",
       "      <td>...</td>\n",
       "      <td>...</td>\n",
       "      <td>...</td>\n",
       "      <td>...</td>\n",
       "      <td>...</td>\n",
       "      <td>...</td>\n",
       "    </tr>\n",
       "    <tr>\n",
       "      <th>2023-11-24</th>\n",
       "      <td>19809.60</td>\n",
       "      <td>19832.85</td>\n",
       "      <td>19768.85</td>\n",
       "      <td>19794.70</td>\n",
       "      <td>19794.70</td>\n",
       "      <td>145900</td>\n",
       "      <td>19802.00</td>\n",
       "    </tr>\n",
       "    <tr>\n",
       "      <th>2023-11-28</th>\n",
       "      <td>19844.65</td>\n",
       "      <td>19916.85</td>\n",
       "      <td>19800.00</td>\n",
       "      <td>19889.70</td>\n",
       "      <td>19889.70</td>\n",
       "      <td>229600</td>\n",
       "      <td>19794.70</td>\n",
       "    </tr>\n",
       "    <tr>\n",
       "      <th>2023-11-29</th>\n",
       "      <td>19976.55</td>\n",
       "      <td>20104.65</td>\n",
       "      <td>19956.30</td>\n",
       "      <td>20096.60</td>\n",
       "      <td>20096.60</td>\n",
       "      <td>236200</td>\n",
       "      <td>19889.70</td>\n",
       "    </tr>\n",
       "    <tr>\n",
       "      <th>2023-11-30</th>\n",
       "      <td>20108.50</td>\n",
       "      <td>20158.70</td>\n",
       "      <td>20015.85</td>\n",
       "      <td>20133.15</td>\n",
       "      <td>20133.15</td>\n",
       "      <td>486600</td>\n",
       "      <td>20096.60</td>\n",
       "    </tr>\n",
       "    <tr>\n",
       "      <th>2023-12-01</th>\n",
       "      <td>20194.10</td>\n",
       "      <td>20291.55</td>\n",
       "      <td>20183.70</td>\n",
       "      <td>20267.90</td>\n",
       "      <td>20267.90</td>\n",
       "      <td>265800</td>\n",
       "      <td>20133.15</td>\n",
       "    </tr>\n",
       "  </tbody>\n",
       "</table>\n",
       "<p>2455 rows × 7 columns</p>\n",
       "</div>"
      ],
      "text/plain": [
       "                Open      High       Low     Close  Adj Close  Volume  \\\n",
       "Date                                                                    \n",
       "2013-12-02   6171.15   6228.70   6171.15   6217.85    6217.85  145900   \n",
       "2013-12-03   6204.25   6225.40   6191.40   6201.85    6201.85  156900   \n",
       "2013-12-04   6187.95   6209.15   6149.90   6160.95    6160.95  186200   \n",
       "2013-12-05   6262.45   6300.55   6232.00   6241.10    6241.10  186100   \n",
       "2013-12-06   6234.40   6275.35   6230.75   6259.90    6259.90  158500   \n",
       "...              ...       ...       ...       ...        ...     ...   \n",
       "2023-11-24  19809.60  19832.85  19768.85  19794.70   19794.70  145900   \n",
       "2023-11-28  19844.65  19916.85  19800.00  19889.70   19889.70  229600   \n",
       "2023-11-29  19976.55  20104.65  19956.30  20096.60   20096.60  236200   \n",
       "2023-11-30  20108.50  20158.70  20015.85  20133.15   20133.15  486600   \n",
       "2023-12-01  20194.10  20291.55  20183.70  20267.90   20267.90  265800   \n",
       "\n",
       "            Prev Close  \n",
       "Date                    \n",
       "2013-12-02         NaN  \n",
       "2013-12-03     6217.85  \n",
       "2013-12-04     6201.85  \n",
       "2013-12-05     6160.95  \n",
       "2013-12-06     6241.10  \n",
       "...                ...  \n",
       "2023-11-24    19802.00  \n",
       "2023-11-28    19794.70  \n",
       "2023-11-29    19889.70  \n",
       "2023-11-30    20096.60  \n",
       "2023-12-01    20133.15  \n",
       "\n",
       "[2455 rows x 7 columns]"
      ]
     },
     "execution_count": 46,
     "metadata": {},
     "output_type": "execute_result"
    }
   ],
   "source": [
    "df"
   ]
  },
  {
   "cell_type": "code",
   "execution_count": 47,
   "id": "e26b4657",
   "metadata": {},
   "outputs": [],
   "source": [
    "# Creating new dataframe with only two columns\n",
    "\n",
    "df = df[['Adj Close', 'Prev Close']]"
   ]
  },
  {
   "cell_type": "code",
   "execution_count": 48,
   "id": "4c85f581",
   "metadata": {},
   "outputs": [
    {
     "data": {
      "text/html": [
       "<div>\n",
       "<style scoped>\n",
       "    .dataframe tbody tr th:only-of-type {\n",
       "        vertical-align: middle;\n",
       "    }\n",
       "\n",
       "    .dataframe tbody tr th {\n",
       "        vertical-align: top;\n",
       "    }\n",
       "\n",
       "    .dataframe thead th {\n",
       "        text-align: right;\n",
       "    }\n",
       "</style>\n",
       "<table border=\"1\" class=\"dataframe\">\n",
       "  <thead>\n",
       "    <tr style=\"text-align: right;\">\n",
       "      <th></th>\n",
       "      <th>Adj Close</th>\n",
       "      <th>Prev Close</th>\n",
       "    </tr>\n",
       "    <tr>\n",
       "      <th>Date</th>\n",
       "      <th></th>\n",
       "      <th></th>\n",
       "    </tr>\n",
       "  </thead>\n",
       "  <tbody>\n",
       "    <tr>\n",
       "      <th>2013-12-02</th>\n",
       "      <td>6217.85</td>\n",
       "      <td>NaN</td>\n",
       "    </tr>\n",
       "    <tr>\n",
       "      <th>2013-12-03</th>\n",
       "      <td>6201.85</td>\n",
       "      <td>6217.85</td>\n",
       "    </tr>\n",
       "    <tr>\n",
       "      <th>2013-12-04</th>\n",
       "      <td>6160.95</td>\n",
       "      <td>6201.85</td>\n",
       "    </tr>\n",
       "    <tr>\n",
       "      <th>2013-12-05</th>\n",
       "      <td>6241.10</td>\n",
       "      <td>6160.95</td>\n",
       "    </tr>\n",
       "    <tr>\n",
       "      <th>2013-12-06</th>\n",
       "      <td>6259.90</td>\n",
       "      <td>6241.10</td>\n",
       "    </tr>\n",
       "    <tr>\n",
       "      <th>...</th>\n",
       "      <td>...</td>\n",
       "      <td>...</td>\n",
       "    </tr>\n",
       "    <tr>\n",
       "      <th>2023-11-24</th>\n",
       "      <td>19794.70</td>\n",
       "      <td>19802.00</td>\n",
       "    </tr>\n",
       "    <tr>\n",
       "      <th>2023-11-28</th>\n",
       "      <td>19889.70</td>\n",
       "      <td>19794.70</td>\n",
       "    </tr>\n",
       "    <tr>\n",
       "      <th>2023-11-29</th>\n",
       "      <td>20096.60</td>\n",
       "      <td>19889.70</td>\n",
       "    </tr>\n",
       "    <tr>\n",
       "      <th>2023-11-30</th>\n",
       "      <td>20133.15</td>\n",
       "      <td>20096.60</td>\n",
       "    </tr>\n",
       "    <tr>\n",
       "      <th>2023-12-01</th>\n",
       "      <td>20267.90</td>\n",
       "      <td>20133.15</td>\n",
       "    </tr>\n",
       "  </tbody>\n",
       "</table>\n",
       "<p>2455 rows × 2 columns</p>\n",
       "</div>"
      ],
      "text/plain": [
       "            Adj Close  Prev Close\n",
       "Date                             \n",
       "2013-12-02    6217.85         NaN\n",
       "2013-12-03    6201.85     6217.85\n",
       "2013-12-04    6160.95     6201.85\n",
       "2013-12-05    6241.10     6160.95\n",
       "2013-12-06    6259.90     6241.10\n",
       "...               ...         ...\n",
       "2023-11-24   19794.70    19802.00\n",
       "2023-11-28   19889.70    19794.70\n",
       "2023-11-29   20096.60    19889.70\n",
       "2023-11-30   20133.15    20096.60\n",
       "2023-12-01   20267.90    20133.15\n",
       "\n",
       "[2455 rows x 2 columns]"
      ]
     },
     "execution_count": 48,
     "metadata": {},
     "output_type": "execute_result"
    }
   ],
   "source": [
    "# Checking new dataframe\n",
    "\n",
    "df"
   ]
  },
  {
   "cell_type": "code",
   "execution_count": 49,
   "id": "faca4d21",
   "metadata": {},
   "outputs": [
    {
     "data": {
      "text/plain": [
       "(2455, 2)"
      ]
     },
     "execution_count": 49,
     "metadata": {},
     "output_type": "execute_result"
    }
   ],
   "source": [
    "# Looking at the shape of the dataframe\n",
    "\n",
    "df.shape"
   ]
  },
  {
   "cell_type": "code",
   "execution_count": 50,
   "id": "64f10b29",
   "metadata": {},
   "outputs": [
    {
     "data": {
      "text/plain": [
       "count     2455.00\n",
       "mean     11784.39\n",
       "std       3913.92\n",
       "min       6000.90\n",
       "25%       8494.17\n",
       "50%      10741.10\n",
       "75%      15633.72\n",
       "max      20267.90\n",
       "Name: Adj Close, dtype: float64"
      ]
     },
     "execution_count": 50,
     "metadata": {},
     "output_type": "execute_result"
    }
   ],
   "source": [
    "# describing the dataframe components\n",
    "\n",
    "round(df['Adj Close'].describe(),2)"
   ]
  },
  {
   "cell_type": "code",
   "execution_count": 51,
   "id": "40bab1eb",
   "metadata": {},
   "outputs": [],
   "source": [
    "# Adding a daily percent change column\n",
    "\n",
    "df['Pct Chg'] = np.log(df['Adj Close']/df['Prev Close'])"
   ]
  },
  {
   "cell_type": "code",
   "execution_count": 52,
   "id": "dffd97b8",
   "metadata": {},
   "outputs": [
    {
     "data": {
      "text/html": [
       "<div>\n",
       "<style scoped>\n",
       "    .dataframe tbody tr th:only-of-type {\n",
       "        vertical-align: middle;\n",
       "    }\n",
       "\n",
       "    .dataframe tbody tr th {\n",
       "        vertical-align: top;\n",
       "    }\n",
       "\n",
       "    .dataframe thead th {\n",
       "        text-align: right;\n",
       "    }\n",
       "</style>\n",
       "<table border=\"1\" class=\"dataframe\">\n",
       "  <thead>\n",
       "    <tr style=\"text-align: right;\">\n",
       "      <th></th>\n",
       "      <th>Adj Close</th>\n",
       "      <th>Prev Close</th>\n",
       "      <th>Pct Chg</th>\n",
       "    </tr>\n",
       "    <tr>\n",
       "      <th>Date</th>\n",
       "      <th></th>\n",
       "      <th></th>\n",
       "      <th></th>\n",
       "    </tr>\n",
       "  </thead>\n",
       "  <tbody>\n",
       "    <tr>\n",
       "      <th>2013-12-02</th>\n",
       "      <td>6217.85</td>\n",
       "      <td>NaN</td>\n",
       "      <td>NaN</td>\n",
       "    </tr>\n",
       "    <tr>\n",
       "      <th>2013-12-03</th>\n",
       "      <td>6201.85</td>\n",
       "      <td>6217.85</td>\n",
       "      <td>-0.002577</td>\n",
       "    </tr>\n",
       "    <tr>\n",
       "      <th>2013-12-04</th>\n",
       "      <td>6160.95</td>\n",
       "      <td>6201.85</td>\n",
       "      <td>-0.006617</td>\n",
       "    </tr>\n",
       "    <tr>\n",
       "      <th>2013-12-05</th>\n",
       "      <td>6241.10</td>\n",
       "      <td>6160.95</td>\n",
       "      <td>0.012925</td>\n",
       "    </tr>\n",
       "    <tr>\n",
       "      <th>2013-12-06</th>\n",
       "      <td>6259.90</td>\n",
       "      <td>6241.10</td>\n",
       "      <td>0.003008</td>\n",
       "    </tr>\n",
       "    <tr>\n",
       "      <th>...</th>\n",
       "      <td>...</td>\n",
       "      <td>...</td>\n",
       "      <td>...</td>\n",
       "    </tr>\n",
       "    <tr>\n",
       "      <th>2023-11-24</th>\n",
       "      <td>19794.70</td>\n",
       "      <td>19802.00</td>\n",
       "      <td>-0.000369</td>\n",
       "    </tr>\n",
       "    <tr>\n",
       "      <th>2023-11-28</th>\n",
       "      <td>19889.70</td>\n",
       "      <td>19794.70</td>\n",
       "      <td>0.004788</td>\n",
       "    </tr>\n",
       "    <tr>\n",
       "      <th>2023-11-29</th>\n",
       "      <td>20096.60</td>\n",
       "      <td>19889.70</td>\n",
       "      <td>0.010349</td>\n",
       "    </tr>\n",
       "    <tr>\n",
       "      <th>2023-11-30</th>\n",
       "      <td>20133.15</td>\n",
       "      <td>20096.60</td>\n",
       "      <td>0.001817</td>\n",
       "    </tr>\n",
       "    <tr>\n",
       "      <th>2023-12-01</th>\n",
       "      <td>20267.90</td>\n",
       "      <td>20133.15</td>\n",
       "      <td>0.006671</td>\n",
       "    </tr>\n",
       "  </tbody>\n",
       "</table>\n",
       "<p>2455 rows × 3 columns</p>\n",
       "</div>"
      ],
      "text/plain": [
       "            Adj Close  Prev Close   Pct Chg\n",
       "Date                                       \n",
       "2013-12-02    6217.85         NaN       NaN\n",
       "2013-12-03    6201.85     6217.85 -0.002577\n",
       "2013-12-04    6160.95     6201.85 -0.006617\n",
       "2013-12-05    6241.10     6160.95  0.012925\n",
       "2013-12-06    6259.90     6241.10  0.003008\n",
       "...               ...         ...       ...\n",
       "2023-11-24   19794.70    19802.00 -0.000369\n",
       "2023-11-28   19889.70    19794.70  0.004788\n",
       "2023-11-29   20096.60    19889.70  0.010349\n",
       "2023-11-30   20133.15    20096.60  0.001817\n",
       "2023-12-01   20267.90    20133.15  0.006671\n",
       "\n",
       "[2455 rows x 3 columns]"
      ]
     },
     "execution_count": 52,
     "metadata": {},
     "output_type": "execute_result"
    }
   ],
   "source": [
    "df"
   ]
  },
  {
   "cell_type": "code",
   "execution_count": 53,
   "id": "25bcb263",
   "metadata": {},
   "outputs": [
    {
     "data": {
      "image/png": "[encoded data removed]",
      "text/plain": [
       "<Figure size 864x576 with 1 Axes>"
      ]
     },
     "metadata": {
      "needs_background": "light"
     },
     "output_type": "display_data"
    }
   ],
   "source": [
    "# plotting the daily returns via histograms\n",
    "\n",
    "df.hist('Pct Chg', grid=False, figsize=(12,8), bins=400, legend=True, xlabelsize=12, ylabelsize=12)\n",
    "plt.title(\"Nifty Daily % Returns\")\n",
    "plt.xlabel(\"Days\")\n",
    "plt.ylabel(\"Percentage\")\n",
    "plt.show()"
   ]
  },
  {
   "cell_type": "code",
   "execution_count": 54,
   "id": "0ceb00c8",
   "metadata": {},
   "outputs": [
    {
     "data": {
      "text/plain": [
       "1.1816141658823653"
      ]
     },
     "execution_count": 54,
     "metadata": {},
     "output_type": "execute_result"
    }
   ],
   "source": [
    "# Calculating the HPR or cumulative returns over the period\n",
    "\n",
    "df['Pct Chg'].sum()"
   ]
  },
  {
   "cell_type": "code",
   "execution_count": 55,
   "id": "5edb266b",
   "metadata": {},
   "outputs": [],
   "source": [
    "# Returns are 118% in log terms"
   ]
  },
  {
   "cell_type": "code",
   "execution_count": 56,
   "id": "0c900680",
   "metadata": {},
   "outputs": [
    {
     "data": {
      "text/plain": [
       "3.26"
      ]
     },
     "execution_count": 56,
     "metadata": {},
     "output_type": "execute_result"
    }
   ],
   "source": [
    "# Calculating final value of investment\n",
    "\n",
    "round(np.exp(df['Pct Chg'].sum()),2)"
   ]
  },
  {
   "cell_type": "code",
   "execution_count": 57,
   "id": "0e92ecf0",
   "metadata": {},
   "outputs": [
    {
     "data": {
      "text/plain": [
       "20267.9"
      ]
     },
     "execution_count": 57,
     "metadata": {},
     "output_type": "execute_result"
    }
   ],
   "source": [
    "# What is an investment in 1 unit of the nifty worth after 10y at 118% returns?\n",
    "\n",
    "final_value = df['Adj Close'][0] * np.exp(df['Pct Chg'].sum())\n",
    "round(final_value,1)"
   ]
  },
  {
   "cell_type": "code",
   "execution_count": 58,
   "id": "81bacc7f",
   "metadata": {},
   "outputs": [
    {
     "data": {
      "text/plain": [
       "3.26"
      ]
     },
     "execution_count": 58,
     "metadata": {},
     "output_type": "execute_result"
    }
   ],
   "source": [
    "# Another way to verify this\n",
    "\n",
    "round(df['Adj Close'][-1]/df['Adj Close'][0],2)"
   ]
  },
  {
   "cell_type": "code",
   "execution_count": 59,
   "id": "ae4a9131",
   "metadata": {},
   "outputs": [
    {
     "data": {
      "text/html": [
       "<div>\n",
       "<style scoped>\n",
       "    .dataframe tbody tr th:only-of-type {\n",
       "        vertical-align: middle;\n",
       "    }\n",
       "\n",
       "    .dataframe tbody tr th {\n",
       "        vertical-align: top;\n",
       "    }\n",
       "\n",
       "    .dataframe thead th {\n",
       "        text-align: right;\n",
       "    }\n",
       "</style>\n",
       "<table border=\"1\" class=\"dataframe\">\n",
       "  <thead>\n",
       "    <tr style=\"text-align: right;\">\n",
       "      <th></th>\n",
       "      <th>Adj Close</th>\n",
       "      <th>Prev Close</th>\n",
       "      <th>Pct Chg</th>\n",
       "    </tr>\n",
       "    <tr>\n",
       "      <th>Date</th>\n",
       "      <th></th>\n",
       "      <th></th>\n",
       "      <th></th>\n",
       "    </tr>\n",
       "  </thead>\n",
       "  <tbody>\n",
       "    <tr>\n",
       "      <th>2013-12-02</th>\n",
       "      <td>6217.85</td>\n",
       "      <td>NaN</td>\n",
       "      <td>NaN</td>\n",
       "    </tr>\n",
       "    <tr>\n",
       "      <th>2013-12-03</th>\n",
       "      <td>6201.85</td>\n",
       "      <td>6217.85</td>\n",
       "      <td>-0.002577</td>\n",
       "    </tr>\n",
       "    <tr>\n",
       "      <th>2013-12-04</th>\n",
       "      <td>6160.95</td>\n",
       "      <td>6201.85</td>\n",
       "      <td>-0.006617</td>\n",
       "    </tr>\n",
       "    <tr>\n",
       "      <th>2013-12-05</th>\n",
       "      <td>6241.10</td>\n",
       "      <td>6160.95</td>\n",
       "      <td>0.012925</td>\n",
       "    </tr>\n",
       "    <tr>\n",
       "      <th>2013-12-06</th>\n",
       "      <td>6259.90</td>\n",
       "      <td>6241.10</td>\n",
       "      <td>0.003008</td>\n",
       "    </tr>\n",
       "  </tbody>\n",
       "</table>\n",
       "</div>"
      ],
      "text/plain": [
       "            Adj Close  Prev Close   Pct Chg\n",
       "Date                                       \n",
       "2013-12-02    6217.85         NaN       NaN\n",
       "2013-12-03    6201.85     6217.85 -0.002577\n",
       "2013-12-04    6160.95     6201.85 -0.006617\n",
       "2013-12-05    6241.10     6160.95  0.012925\n",
       "2013-12-06    6259.90     6241.10  0.003008"
      ]
     },
     "execution_count": 59,
     "metadata": {},
     "output_type": "execute_result"
    }
   ],
   "source": [
    "# Quick look at the dataframe again\n",
    "\n",
    "df.head()"
   ]
  },
  {
   "cell_type": "code",
   "execution_count": 60,
   "id": "05c97295",
   "metadata": {},
   "outputs": [
    {
     "data": {
      "text/html": [
       "<div>\n",
       "<style scoped>\n",
       "    .dataframe tbody tr th:only-of-type {\n",
       "        vertical-align: middle;\n",
       "    }\n",
       "\n",
       "    .dataframe tbody tr th {\n",
       "        vertical-align: top;\n",
       "    }\n",
       "\n",
       "    .dataframe thead th {\n",
       "        text-align: right;\n",
       "    }\n",
       "</style>\n",
       "<table border=\"1\" class=\"dataframe\">\n",
       "  <thead>\n",
       "    <tr style=\"text-align: right;\">\n",
       "      <th></th>\n",
       "      <th>Adj Close</th>\n",
       "      <th>Prev Close</th>\n",
       "      <th>Pct Chg</th>\n",
       "    </tr>\n",
       "    <tr>\n",
       "      <th>Date</th>\n",
       "      <th></th>\n",
       "      <th></th>\n",
       "      <th></th>\n",
       "    </tr>\n",
       "  </thead>\n",
       "  <tbody>\n",
       "    <tr>\n",
       "      <th>2023-11-24</th>\n",
       "      <td>19794.70</td>\n",
       "      <td>19802.00</td>\n",
       "      <td>-0.000369</td>\n",
       "    </tr>\n",
       "    <tr>\n",
       "      <th>2023-11-28</th>\n",
       "      <td>19889.70</td>\n",
       "      <td>19794.70</td>\n",
       "      <td>0.004788</td>\n",
       "    </tr>\n",
       "    <tr>\n",
       "      <th>2023-11-29</th>\n",
       "      <td>20096.60</td>\n",
       "      <td>19889.70</td>\n",
       "      <td>0.010349</td>\n",
       "    </tr>\n",
       "    <tr>\n",
       "      <th>2023-11-30</th>\n",
       "      <td>20133.15</td>\n",
       "      <td>20096.60</td>\n",
       "      <td>0.001817</td>\n",
       "    </tr>\n",
       "    <tr>\n",
       "      <th>2023-12-01</th>\n",
       "      <td>20267.90</td>\n",
       "      <td>20133.15</td>\n",
       "      <td>0.006671</td>\n",
       "    </tr>\n",
       "  </tbody>\n",
       "</table>\n",
       "</div>"
      ],
      "text/plain": [
       "            Adj Close  Prev Close   Pct Chg\n",
       "Date                                       \n",
       "2023-11-24   19794.70    19802.00 -0.000369\n",
       "2023-11-28   19889.70    19794.70  0.004788\n",
       "2023-11-29   20096.60    19889.70  0.010349\n",
       "2023-11-30   20133.15    20096.60  0.001817\n",
       "2023-12-01   20267.90    20133.15  0.006671"
      ]
     },
     "execution_count": 60,
     "metadata": {},
     "output_type": "execute_result"
    }
   ],
   "source": [
    "df.tail()"
   ]
  },
  {
   "cell_type": "code",
   "execution_count": 61,
   "id": "c19edea4",
   "metadata": {},
   "outputs": [
    {
     "data": {
      "text/plain": [
       "Date\n",
       "2013-12-02         NaN\n",
       "2013-12-03    0.997427\n",
       "2013-12-04    0.990849\n",
       "2013-12-05    1.003739\n",
       "2013-12-06    1.006763\n",
       "                ...   \n",
       "2023-11-24    3.183528\n",
       "2023-11-28    3.198807\n",
       "2023-11-29    3.232082\n",
       "2023-11-30    3.237960\n",
       "2023-12-01    3.259632\n",
       "Name: Pct Chg, Length: 2455, dtype: float64"
      ]
     },
     "execution_count": 61,
     "metadata": {},
     "output_type": "execute_result"
    }
   ],
   "source": [
    "# Calculating the value of the investment at the end of each day\n",
    "\n",
    "np.exp(df['Pct Chg'].cumsum())"
   ]
  },
  {
   "cell_type": "code",
   "execution_count": 62,
   "id": "19b517da",
   "metadata": {},
   "outputs": [],
   "source": [
    "# Lets add this feature as a new column in our dataframe\n",
    "\n",
    "df['Cuml_Ret'] = round(np.exp(df['Pct Chg'].cumsum()),3)"
   ]
  },
  {
   "cell_type": "code",
   "execution_count": 63,
   "id": "eb17e0dc",
   "metadata": {},
   "outputs": [
    {
     "data": {
      "text/html": [
       "<div>\n",
       "<style scoped>\n",
       "    .dataframe tbody tr th:only-of-type {\n",
       "        vertical-align: middle;\n",
       "    }\n",
       "\n",
       "    .dataframe tbody tr th {\n",
       "        vertical-align: top;\n",
       "    }\n",
       "\n",
       "    .dataframe thead th {\n",
       "        text-align: right;\n",
       "    }\n",
       "</style>\n",
       "<table border=\"1\" class=\"dataframe\">\n",
       "  <thead>\n",
       "    <tr style=\"text-align: right;\">\n",
       "      <th></th>\n",
       "      <th>Adj Close</th>\n",
       "      <th>Prev Close</th>\n",
       "      <th>Pct Chg</th>\n",
       "      <th>Cuml_Ret</th>\n",
       "    </tr>\n",
       "    <tr>\n",
       "      <th>Date</th>\n",
       "      <th></th>\n",
       "      <th></th>\n",
       "      <th></th>\n",
       "      <th></th>\n",
       "    </tr>\n",
       "  </thead>\n",
       "  <tbody>\n",
       "    <tr>\n",
       "      <th>2013-12-02</th>\n",
       "      <td>6217.85</td>\n",
       "      <td>NaN</td>\n",
       "      <td>NaN</td>\n",
       "      <td>NaN</td>\n",
       "    </tr>\n",
       "    <tr>\n",
       "      <th>2013-12-03</th>\n",
       "      <td>6201.85</td>\n",
       "      <td>6217.85</td>\n",
       "      <td>-0.002577</td>\n",
       "      <td>0.997</td>\n",
       "    </tr>\n",
       "    <tr>\n",
       "      <th>2013-12-04</th>\n",
       "      <td>6160.95</td>\n",
       "      <td>6201.85</td>\n",
       "      <td>-0.006617</td>\n",
       "      <td>0.991</td>\n",
       "    </tr>\n",
       "    <tr>\n",
       "      <th>2013-12-05</th>\n",
       "      <td>6241.10</td>\n",
       "      <td>6160.95</td>\n",
       "      <td>0.012925</td>\n",
       "      <td>1.004</td>\n",
       "    </tr>\n",
       "    <tr>\n",
       "      <th>2013-12-06</th>\n",
       "      <td>6259.90</td>\n",
       "      <td>6241.10</td>\n",
       "      <td>0.003008</td>\n",
       "      <td>1.007</td>\n",
       "    </tr>\n",
       "    <tr>\n",
       "      <th>...</th>\n",
       "      <td>...</td>\n",
       "      <td>...</td>\n",
       "      <td>...</td>\n",
       "      <td>...</td>\n",
       "    </tr>\n",
       "    <tr>\n",
       "      <th>2023-11-24</th>\n",
       "      <td>19794.70</td>\n",
       "      <td>19802.00</td>\n",
       "      <td>-0.000369</td>\n",
       "      <td>3.184</td>\n",
       "    </tr>\n",
       "    <tr>\n",
       "      <th>2023-11-28</th>\n",
       "      <td>19889.70</td>\n",
       "      <td>19794.70</td>\n",
       "      <td>0.004788</td>\n",
       "      <td>3.199</td>\n",
       "    </tr>\n",
       "    <tr>\n",
       "      <th>2023-11-29</th>\n",
       "      <td>20096.60</td>\n",
       "      <td>19889.70</td>\n",
       "      <td>0.010349</td>\n",
       "      <td>3.232</td>\n",
       "    </tr>\n",
       "    <tr>\n",
       "      <th>2023-11-30</th>\n",
       "      <td>20133.15</td>\n",
       "      <td>20096.60</td>\n",
       "      <td>0.001817</td>\n",
       "      <td>3.238</td>\n",
       "    </tr>\n",
       "    <tr>\n",
       "      <th>2023-12-01</th>\n",
       "      <td>20267.90</td>\n",
       "      <td>20133.15</td>\n",
       "      <td>0.006671</td>\n",
       "      <td>3.260</td>\n",
       "    </tr>\n",
       "  </tbody>\n",
       "</table>\n",
       "<p>2455 rows × 4 columns</p>\n",
       "</div>"
      ],
      "text/plain": [
       "            Adj Close  Prev Close   Pct Chg  Cuml_Ret\n",
       "Date                                                 \n",
       "2013-12-02    6217.85         NaN       NaN       NaN\n",
       "2013-12-03    6201.85     6217.85 -0.002577     0.997\n",
       "2013-12-04    6160.95     6201.85 -0.006617     0.991\n",
       "2013-12-05    6241.10     6160.95  0.012925     1.004\n",
       "2013-12-06    6259.90     6241.10  0.003008     1.007\n",
       "...               ...         ...       ...       ...\n",
       "2023-11-24   19794.70    19802.00 -0.000369     3.184\n",
       "2023-11-28   19889.70    19794.70  0.004788     3.199\n",
       "2023-11-29   20096.60    19889.70  0.010349     3.232\n",
       "2023-11-30   20133.15    20096.60  0.001817     3.238\n",
       "2023-12-01   20267.90    20133.15  0.006671     3.260\n",
       "\n",
       "[2455 rows x 4 columns]"
      ]
     },
     "execution_count": 63,
     "metadata": {},
     "output_type": "execute_result"
    }
   ],
   "source": [
    "# Let's see the dataframe again\n",
    "\n",
    "df"
   ]
  },
  {
   "cell_type": "code",
   "execution_count": 64,
   "id": "f4f10b1d",
   "metadata": {},
   "outputs": [],
   "source": [
    "# Dropping the first row since it has NaNs\n",
    "\n",
    "df.dropna(inplace=True)"
   ]
  },
  {
   "cell_type": "code",
   "execution_count": 65,
   "id": "73b60c46",
   "metadata": {},
   "outputs": [
    {
     "data": {
      "text/plain": [
       "(2454, 4)"
      ]
     },
     "execution_count": 65,
     "metadata": {},
     "output_type": "execute_result"
    }
   ],
   "source": [
    "df.shape"
   ]
  },
  {
   "cell_type": "code",
   "execution_count": 66,
   "id": "3f03b7c6",
   "metadata": {},
   "outputs": [
    {
     "data": {
      "text/html": [
       "<div>\n",
       "<style scoped>\n",
       "    .dataframe tbody tr th:only-of-type {\n",
       "        vertical-align: middle;\n",
       "    }\n",
       "\n",
       "    .dataframe tbody tr th {\n",
       "        vertical-align: top;\n",
       "    }\n",
       "\n",
       "    .dataframe thead th {\n",
       "        text-align: right;\n",
       "    }\n",
       "</style>\n",
       "<table border=\"1\" class=\"dataframe\">\n",
       "  <thead>\n",
       "    <tr style=\"text-align: right;\">\n",
       "      <th></th>\n",
       "      <th>Adj Close</th>\n",
       "      <th>Prev Close</th>\n",
       "      <th>Pct Chg</th>\n",
       "      <th>Cuml_Ret</th>\n",
       "    </tr>\n",
       "    <tr>\n",
       "      <th>Date</th>\n",
       "      <th></th>\n",
       "      <th></th>\n",
       "      <th></th>\n",
       "      <th></th>\n",
       "    </tr>\n",
       "  </thead>\n",
       "  <tbody>\n",
       "    <tr>\n",
       "      <th>2013-12-03</th>\n",
       "      <td>6201.85</td>\n",
       "      <td>6217.85</td>\n",
       "      <td>-0.002577</td>\n",
       "      <td>0.997</td>\n",
       "    </tr>\n",
       "    <tr>\n",
       "      <th>2013-12-04</th>\n",
       "      <td>6160.95</td>\n",
       "      <td>6201.85</td>\n",
       "      <td>-0.006617</td>\n",
       "      <td>0.991</td>\n",
       "    </tr>\n",
       "    <tr>\n",
       "      <th>2013-12-05</th>\n",
       "      <td>6241.10</td>\n",
       "      <td>6160.95</td>\n",
       "      <td>0.012925</td>\n",
       "      <td>1.004</td>\n",
       "    </tr>\n",
       "    <tr>\n",
       "      <th>2013-12-06</th>\n",
       "      <td>6259.90</td>\n",
       "      <td>6241.10</td>\n",
       "      <td>0.003008</td>\n",
       "      <td>1.007</td>\n",
       "    </tr>\n",
       "    <tr>\n",
       "      <th>2013-12-09</th>\n",
       "      <td>6363.90</td>\n",
       "      <td>6259.90</td>\n",
       "      <td>0.016477</td>\n",
       "      <td>1.023</td>\n",
       "    </tr>\n",
       "  </tbody>\n",
       "</table>\n",
       "</div>"
      ],
      "text/plain": [
       "            Adj Close  Prev Close   Pct Chg  Cuml_Ret\n",
       "Date                                                 \n",
       "2013-12-03    6201.85     6217.85 -0.002577     0.997\n",
       "2013-12-04    6160.95     6201.85 -0.006617     0.991\n",
       "2013-12-05    6241.10     6160.95  0.012925     1.004\n",
       "2013-12-06    6259.90     6241.10  0.003008     1.007\n",
       "2013-12-09    6363.90     6259.90  0.016477     1.023"
      ]
     },
     "execution_count": 66,
     "metadata": {},
     "output_type": "execute_result"
    }
   ],
   "source": [
    "# Lets check the dataframe again\n",
    "\n",
    "df.head()"
   ]
  },
  {
   "cell_type": "code",
   "execution_count": 74,
   "id": "e3f7cc2b",
   "metadata": {},
   "outputs": [
    {
     "data": {
      "text/html": [
       "<div>\n",
       "<style scoped>\n",
       "    .dataframe tbody tr th:only-of-type {\n",
       "        vertical-align: middle;\n",
       "    }\n",
       "\n",
       "    .dataframe tbody tr th {\n",
       "        vertical-align: top;\n",
       "    }\n",
       "\n",
       "    .dataframe thead th {\n",
       "        text-align: right;\n",
       "    }\n",
       "</style>\n",
       "<table border=\"1\" class=\"dataframe\">\n",
       "  <thead>\n",
       "    <tr style=\"text-align: right;\">\n",
       "      <th></th>\n",
       "      <th>Adj Close</th>\n",
       "      <th>Prev Close</th>\n",
       "      <th>Pct Chg</th>\n",
       "      <th>Cuml_Ret</th>\n",
       "    </tr>\n",
       "    <tr>\n",
       "      <th>Date</th>\n",
       "      <th></th>\n",
       "      <th></th>\n",
       "      <th></th>\n",
       "      <th></th>\n",
       "    </tr>\n",
       "  </thead>\n",
       "  <tbody>\n",
       "    <tr>\n",
       "      <th>2023-11-24</th>\n",
       "      <td>19794.70</td>\n",
       "      <td>19802.00</td>\n",
       "      <td>-0.000369</td>\n",
       "      <td>3.184</td>\n",
       "    </tr>\n",
       "    <tr>\n",
       "      <th>2023-11-28</th>\n",
       "      <td>19889.70</td>\n",
       "      <td>19794.70</td>\n",
       "      <td>0.004788</td>\n",
       "      <td>3.199</td>\n",
       "    </tr>\n",
       "    <tr>\n",
       "      <th>2023-11-29</th>\n",
       "      <td>20096.60</td>\n",
       "      <td>19889.70</td>\n",
       "      <td>0.010349</td>\n",
       "      <td>3.232</td>\n",
       "    </tr>\n",
       "    <tr>\n",
       "      <th>2023-11-30</th>\n",
       "      <td>20133.15</td>\n",
       "      <td>20096.60</td>\n",
       "      <td>0.001817</td>\n",
       "      <td>3.238</td>\n",
       "    </tr>\n",
       "    <tr>\n",
       "      <th>2023-12-01</th>\n",
       "      <td>20267.90</td>\n",
       "      <td>20133.15</td>\n",
       "      <td>0.006671</td>\n",
       "      <td>3.260</td>\n",
       "    </tr>\n",
       "  </tbody>\n",
       "</table>\n",
       "</div>"
      ],
      "text/plain": [
       "            Adj Close  Prev Close   Pct Chg  Cuml_Ret\n",
       "Date                                                 \n",
       "2023-11-24   19794.70    19802.00 -0.000369     3.184\n",
       "2023-11-28   19889.70    19794.70  0.004788     3.199\n",
       "2023-11-29   20096.60    19889.70  0.010349     3.232\n",
       "2023-11-30   20133.15    20096.60  0.001817     3.238\n",
       "2023-12-01   20267.90    20133.15  0.006671     3.260"
      ]
     },
     "execution_count": 74,
     "metadata": {},
     "output_type": "execute_result"
    }
   ],
   "source": [
    "df.tail()"
   ]
  },
  {
   "cell_type": "code",
   "execution_count": 73,
   "id": "f88cb1a6",
   "metadata": {},
   "outputs": [
    {
     "data": {
      "image/png": "[encoded data removed]",
      "text/plain": [
       "<Figure size 864x576 with 1 Axes>"
      ]
     },
     "metadata": {
      "needs_background": "light"
     },
     "output_type": "display_data"
    }
   ],
   "source": [
    "# Now lets plot the cuml returns\n",
    "\n",
    "df['Cuml_Ret'].plot(figsize=(12,8), fontsize = 12, c='g')\n",
    "plt.title(\"Nifty Growth\")\n",
    "plt.xlabel(\"Days\")\n",
    "plt.ylabel(\"Cuml Return (log)\")\n",
    "plt.show()"
   ]
  },
  {
   "cell_type": "markdown",
   "id": "8c53489e",
   "metadata": {},
   "source": [
    "## 2) Performance Metrics"
   ]
  },
  {
   "cell_type": "markdown",
   "id": "1cb8ad0a",
   "metadata": {},
   "source": [
    "### Portfolio value ###"
   ]
  },
  {
   "cell_type": "code",
   "execution_count": 75,
   "id": "d7f2cbd7",
   "metadata": {},
   "outputs": [
    {
     "data": {
      "text/plain": [
       "3.26"
      ]
     },
     "execution_count": 75,
     "metadata": {},
     "output_type": "execute_result"
    }
   ],
   "source": [
    "# Value of INR 1 invested 10y ago\n",
    "\n",
    "df['Cuml_Ret'][-1]"
   ]
  },
  {
   "cell_type": "code",
   "execution_count": 77,
   "id": "f16cf8b7",
   "metadata": {},
   "outputs": [
    {
     "data": {
      "text/html": [
       "<div>\n",
       "<style scoped>\n",
       "    .dataframe tbody tr th:only-of-type {\n",
       "        vertical-align: middle;\n",
       "    }\n",
       "\n",
       "    .dataframe tbody tr th {\n",
       "        vertical-align: top;\n",
       "    }\n",
       "\n",
       "    .dataframe thead th {\n",
       "        text-align: right;\n",
       "    }\n",
       "</style>\n",
       "<table border=\"1\" class=\"dataframe\">\n",
       "  <thead>\n",
       "    <tr style=\"text-align: right;\">\n",
       "      <th></th>\n",
       "      <th>Adj Close</th>\n",
       "      <th>Prev Close</th>\n",
       "      <th>Pct Chg</th>\n",
       "      <th>Cuml_Ret</th>\n",
       "    </tr>\n",
       "  </thead>\n",
       "  <tbody>\n",
       "    <tr>\n",
       "      <th>count</th>\n",
       "      <td>2454.00</td>\n",
       "      <td>2454.00</td>\n",
       "      <td>2454.00</td>\n",
       "      <td>2454.00</td>\n",
       "    </tr>\n",
       "    <tr>\n",
       "      <th>mean</th>\n",
       "      <td>11786.66</td>\n",
       "      <td>11780.93</td>\n",
       "      <td>0.00</td>\n",
       "      <td>1.90</td>\n",
       "    </tr>\n",
       "    <tr>\n",
       "      <th>std</th>\n",
       "      <td>3913.11</td>\n",
       "      <td>3910.97</td>\n",
       "      <td>0.01</td>\n",
       "      <td>0.63</td>\n",
       "    </tr>\n",
       "    <tr>\n",
       "      <th>min</th>\n",
       "      <td>6000.90</td>\n",
       "      <td>6000.90</td>\n",
       "      <td>-0.14</td>\n",
       "      <td>0.96</td>\n",
       "    </tr>\n",
       "    <tr>\n",
       "      <th>25%</th>\n",
       "      <td>8494.44</td>\n",
       "      <td>8494.16</td>\n",
       "      <td>-0.00</td>\n",
       "      <td>1.37</td>\n",
       "    </tr>\n",
       "    <tr>\n",
       "      <th>50%</th>\n",
       "      <td>10741.10</td>\n",
       "      <td>10740.53</td>\n",
       "      <td>0.00</td>\n",
       "      <td>1.73</td>\n",
       "    </tr>\n",
       "    <tr>\n",
       "      <th>75%</th>\n",
       "      <td>15634.54</td>\n",
       "      <td>15619.78</td>\n",
       "      <td>0.01</td>\n",
       "      <td>2.51</td>\n",
       "    </tr>\n",
       "    <tr>\n",
       "      <th>max</th>\n",
       "      <td>20267.90</td>\n",
       "      <td>20192.35</td>\n",
       "      <td>0.08</td>\n",
       "      <td>3.26</td>\n",
       "    </tr>\n",
       "  </tbody>\n",
       "</table>\n",
       "</div>"
      ],
      "text/plain": [
       "       Adj Close  Prev Close  Pct Chg  Cuml_Ret\n",
       "count    2454.00     2454.00  2454.00   2454.00\n",
       "mean    11786.66    11780.93     0.00      1.90\n",
       "std      3913.11     3910.97     0.01      0.63\n",
       "min      6000.90     6000.90    -0.14      0.96\n",
       "25%      8494.44     8494.16    -0.00      1.37\n",
       "50%     10741.10    10740.53     0.00      1.73\n",
       "75%     15634.54    15619.78     0.01      2.51\n",
       "max     20267.90    20192.35     0.08      3.26"
      ]
     },
     "execution_count": 77,
     "metadata": {},
     "output_type": "execute_result"
    }
   ],
   "source": [
    "# lets look at the statistics\n",
    "\n",
    "round(df.describe(),2)"
   ]
  },
  {
   "cell_type": "markdown",
   "id": "3f761627",
   "metadata": {},
   "source": [
    "### Annualized mean return and risk (stdev) ###"
   ]
  },
  {
   "cell_type": "code",
   "execution_count": 86,
   "id": "016310c2",
   "metadata": {},
   "outputs": [
    {
     "data": {
      "text/plain": [
       "0.0004815053650702378"
      ]
     },
     "execution_count": 86,
     "metadata": {},
     "output_type": "execute_result"
    }
   ],
   "source": [
    "# Daily average return\n",
    "\n",
    "daily_ret = df['Pct Chg'].mean()\n",
    "daily_ret"
   ]
  },
  {
   "cell_type": "code",
   "execution_count": 87,
   "id": "0a71fad5",
   "metadata": {},
   "outputs": [
    {
     "data": {
      "text/plain": [
       "0.12133935199769992"
      ]
     },
     "execution_count": 87,
     "metadata": {},
     "output_type": "execute_result"
    }
   ],
   "source": [
    "# Annualised return\n",
    "\n",
    "ann_ret = daily_ret * 252\n",
    "ann_ret"
   ]
  },
  {
   "cell_type": "code",
   "execution_count": 89,
   "id": "03af4c69",
   "metadata": {},
   "outputs": [
    {
     "data": {
      "text/plain": [
       "0.01048696133385273"
      ]
     },
     "execution_count": 89,
     "metadata": {},
     "output_type": "execute_result"
    }
   ],
   "source": [
    "# Daily std dev\n",
    "\n",
    "daily_stdev = df['Pct Chg'].std()\n",
    "daily_stdev"
   ]
  },
  {
   "cell_type": "code",
   "execution_count": 92,
   "id": "fe06372a",
   "metadata": {},
   "outputs": [
    {
     "data": {
      "text/plain": [
       "0.16647535018874718"
      ]
     },
     "execution_count": 92,
     "metadata": {},
     "output_type": "execute_result"
    }
   ],
   "source": [
    "# Annualised std dev \n",
    "\n",
    "ann_stdev = daily_stdev * np.sqrt(252)\n",
    "ann_stdev"
   ]
  },
  {
   "cell_type": "markdown",
   "id": "e37c6f2b",
   "metadata": {},
   "source": [
    "### Maximum Drawdown ###"
   ]
  },
  {
   "cell_type": "code",
   "execution_count": 94,
   "id": "741567cc",
   "metadata": {},
   "outputs": [],
   "source": [
    "df['Cuml_max'] = df['Cuml_Ret'].cummax()"
   ]
  },
  {
   "cell_type": "code",
   "execution_count": 99,
   "id": "9e594abe",
   "metadata": {},
   "outputs": [
    {
     "name": "stdout",
     "output_type": "stream",
     "text": [
      "            Adj Close  Prev Close   Pct Chg  Cuml_Ret  Cuml_max\n",
      "Date                                                           \n",
      "2013-12-03    6201.85     6217.85 -0.002577     0.997     0.997\n",
      "2013-12-04    6160.95     6201.85 -0.006617     0.991     0.997\n",
      "2013-12-05    6241.10     6160.95  0.012925     1.004     1.004\n",
      "2013-12-06    6259.90     6241.10  0.003008     1.007     1.007\n",
      "2013-12-09    6363.90     6259.90  0.016477     1.023     1.023\n",
      "2013-12-10    6332.85     6363.90 -0.004891     1.018     1.023\n",
      "2013-12-11    6307.90     6332.85 -0.003948     1.014     1.023\n",
      "2013-12-12    6237.05     6307.90 -0.011296     1.003     1.023\n",
      "2013-12-13    6168.40     6237.05 -0.011068     0.992     1.023\n",
      "2013-12-16    6154.70     6168.40 -0.002223     0.990     1.023\n",
      "2013-12-17    6139.05     6154.70 -0.002546     0.987     1.023\n",
      "2013-12-18    6217.15     6139.05  0.012642     1.000     1.023\n",
      "2013-12-19    6166.65     6217.15 -0.008156     0.992     1.023\n",
      "2013-12-20    6274.25     6166.65  0.017298     1.009     1.023\n",
      "2013-12-23    6284.50     6274.25  0.001632     1.011     1.023\n",
      "2013-12-24    6268.40     6284.50 -0.002565     1.008     1.023\n",
      "2013-12-26    6278.90     6268.40  0.001674     1.010     1.023\n",
      "2013-12-27    6313.80     6278.90  0.005543     1.015     1.023\n",
      "2013-12-30    6291.10     6313.80 -0.003602     1.012     1.023\n",
      "2013-12-31    6304.00     6291.10  0.002048     1.014     1.023\n",
      "            Adj Close  Prev Close   Pct Chg  Cuml_Ret  Cuml_max\n",
      "Date                                                           \n",
      "2023-11-02   19133.25    18989.15  0.007560     3.077     3.247\n",
      "2023-11-03   19230.60    19133.25  0.005075     3.093     3.247\n",
      "2023-11-06   19411.75    19230.60  0.009376     3.122     3.247\n",
      "2023-11-07   19406.70    19411.75 -0.000260     3.121     3.247\n",
      "2023-11-08   19443.50    19406.70  0.001894     3.127     3.247\n",
      "2023-11-09   19395.30    19443.50 -0.002482     3.119     3.247\n",
      "2023-11-10   19425.35    19395.30  0.001548     3.124     3.247\n",
      "2023-11-13   19443.55    19425.35  0.000936     3.127     3.247\n",
      "2023-11-15   19675.45    19443.55  0.011856     3.164     3.247\n",
      "2023-11-16   19765.20    19675.45  0.004551     3.179     3.247\n",
      "2023-11-17   19731.80    19765.20 -0.001691     3.173     3.247\n",
      "2023-11-20   19694.00    19731.80 -0.001918     3.167     3.247\n",
      "2023-11-21   19783.40    19694.00  0.004529     3.182     3.247\n",
      "2023-11-22   19811.85    19783.40  0.001437     3.186     3.247\n",
      "2023-11-23   19802.00    19811.85 -0.000497     3.185     3.247\n",
      "2023-11-24   19794.70    19802.00 -0.000369     3.184     3.247\n",
      "2023-11-28   19889.70    19794.70  0.004788     3.199     3.247\n",
      "2023-11-29   20096.60    19889.70  0.010349     3.232     3.247\n",
      "2023-11-30   20133.15    20096.60  0.001817     3.238     3.247\n",
      "2023-12-01   20267.90    20133.15  0.006671     3.260     3.260\n"
     ]
    }
   ],
   "source": [
    "# Lets look at the new column\n",
    "\n",
    "print(df.head(20))\n",
    "print(df.tail(20))"
   ]
  },
  {
   "cell_type": "code",
   "execution_count": 102,
   "id": "1ba656ed",
   "metadata": {},
   "outputs": [
    {
     "data": {
      "image/png": "[encoded data removed]",
      "text/plain": [
       "<Figure size 864x576 with 1 Axes>"
      ]
     },
     "metadata": {
      "needs_background": "light"
     },
     "output_type": "display_data"
    }
   ],
   "source": [
    "# Plotting the cumulative returns and the cumulative maximum for visual look at drawdown\n",
    "\n",
    "df[['Cuml_Ret','Cuml_max']].plot(figsize=(12,8))\n",
    "plt.title(\"Cuml Maximum and Cuml Return\")\n",
    "plt.xlabel(\"Days\")\n",
    "plt.ylabel(\"Cuml Return (log)\")\n",
    "plt.show()"
   ]
  },
  {
   "cell_type": "code",
   "execution_count": 103,
   "id": "8975f9ca",
   "metadata": {},
   "outputs": [],
   "source": [
    "# Creating a daily drawdown column\n",
    "\n",
    "df['Drawdown'] = df['Cuml_max'] - df['Cuml_Ret']"
   ]
  },
  {
   "cell_type": "code",
   "execution_count": 104,
   "id": "fd4a305a",
   "metadata": {},
   "outputs": [
    {
     "data": {
      "text/html": [
       "<div>\n",
       "<style scoped>\n",
       "    .dataframe tbody tr th:only-of-type {\n",
       "        vertical-align: middle;\n",
       "    }\n",
       "\n",
       "    .dataframe tbody tr th {\n",
       "        vertical-align: top;\n",
       "    }\n",
       "\n",
       "    .dataframe thead th {\n",
       "        text-align: right;\n",
       "    }\n",
       "</style>\n",
       "<table border=\"1\" class=\"dataframe\">\n",
       "  <thead>\n",
       "    <tr style=\"text-align: right;\">\n",
       "      <th></th>\n",
       "      <th>Adj Close</th>\n",
       "      <th>Prev Close</th>\n",
       "      <th>Pct Chg</th>\n",
       "      <th>Cuml_Ret</th>\n",
       "      <th>Cuml_max</th>\n",
       "      <th>Drawdown</th>\n",
       "    </tr>\n",
       "    <tr>\n",
       "      <th>Date</th>\n",
       "      <th></th>\n",
       "      <th></th>\n",
       "      <th></th>\n",
       "      <th></th>\n",
       "      <th></th>\n",
       "      <th></th>\n",
       "    </tr>\n",
       "  </thead>\n",
       "  <tbody>\n",
       "    <tr>\n",
       "      <th>2013-12-03</th>\n",
       "      <td>6201.85</td>\n",
       "      <td>6217.85</td>\n",
       "      <td>-0.002577</td>\n",
       "      <td>0.997</td>\n",
       "      <td>0.997</td>\n",
       "      <td>0.000</td>\n",
       "    </tr>\n",
       "    <tr>\n",
       "      <th>2013-12-04</th>\n",
       "      <td>6160.95</td>\n",
       "      <td>6201.85</td>\n",
       "      <td>-0.006617</td>\n",
       "      <td>0.991</td>\n",
       "      <td>0.997</td>\n",
       "      <td>0.006</td>\n",
       "    </tr>\n",
       "    <tr>\n",
       "      <th>2013-12-05</th>\n",
       "      <td>6241.10</td>\n",
       "      <td>6160.95</td>\n",
       "      <td>0.012925</td>\n",
       "      <td>1.004</td>\n",
       "      <td>1.004</td>\n",
       "      <td>0.000</td>\n",
       "    </tr>\n",
       "    <tr>\n",
       "      <th>2013-12-06</th>\n",
       "      <td>6259.90</td>\n",
       "      <td>6241.10</td>\n",
       "      <td>0.003008</td>\n",
       "      <td>1.007</td>\n",
       "      <td>1.007</td>\n",
       "      <td>0.000</td>\n",
       "    </tr>\n",
       "    <tr>\n",
       "      <th>2013-12-09</th>\n",
       "      <td>6363.90</td>\n",
       "      <td>6259.90</td>\n",
       "      <td>0.016477</td>\n",
       "      <td>1.023</td>\n",
       "      <td>1.023</td>\n",
       "      <td>0.000</td>\n",
       "    </tr>\n",
       "    <tr>\n",
       "      <th>...</th>\n",
       "      <td>...</td>\n",
       "      <td>...</td>\n",
       "      <td>...</td>\n",
       "      <td>...</td>\n",
       "      <td>...</td>\n",
       "      <td>...</td>\n",
       "    </tr>\n",
       "    <tr>\n",
       "      <th>2023-11-24</th>\n",
       "      <td>19794.70</td>\n",
       "      <td>19802.00</td>\n",
       "      <td>-0.000369</td>\n",
       "      <td>3.184</td>\n",
       "      <td>3.247</td>\n",
       "      <td>0.063</td>\n",
       "    </tr>\n",
       "    <tr>\n",
       "      <th>2023-11-28</th>\n",
       "      <td>19889.70</td>\n",
       "      <td>19794.70</td>\n",
       "      <td>0.004788</td>\n",
       "      <td>3.199</td>\n",
       "      <td>3.247</td>\n",
       "      <td>0.048</td>\n",
       "    </tr>\n",
       "    <tr>\n",
       "      <th>2023-11-29</th>\n",
       "      <td>20096.60</td>\n",
       "      <td>19889.70</td>\n",
       "      <td>0.010349</td>\n",
       "      <td>3.232</td>\n",
       "      <td>3.247</td>\n",
       "      <td>0.015</td>\n",
       "    </tr>\n",
       "    <tr>\n",
       "      <th>2023-11-30</th>\n",
       "      <td>20133.15</td>\n",
       "      <td>20096.60</td>\n",
       "      <td>0.001817</td>\n",
       "      <td>3.238</td>\n",
       "      <td>3.247</td>\n",
       "      <td>0.009</td>\n",
       "    </tr>\n",
       "    <tr>\n",
       "      <th>2023-12-01</th>\n",
       "      <td>20267.90</td>\n",
       "      <td>20133.15</td>\n",
       "      <td>0.006671</td>\n",
       "      <td>3.260</td>\n",
       "      <td>3.260</td>\n",
       "      <td>0.000</td>\n",
       "    </tr>\n",
       "  </tbody>\n",
       "</table>\n",
       "<p>2454 rows × 6 columns</p>\n",
       "</div>"
      ],
      "text/plain": [
       "            Adj Close  Prev Close   Pct Chg  Cuml_Ret  Cuml_max  Drawdown\n",
       "Date                                                                     \n",
       "2013-12-03    6201.85     6217.85 -0.002577     0.997     0.997     0.000\n",
       "2013-12-04    6160.95     6201.85 -0.006617     0.991     0.997     0.006\n",
       "2013-12-05    6241.10     6160.95  0.012925     1.004     1.004     0.000\n",
       "2013-12-06    6259.90     6241.10  0.003008     1.007     1.007     0.000\n",
       "2013-12-09    6363.90     6259.90  0.016477     1.023     1.023     0.000\n",
       "...               ...         ...       ...       ...       ...       ...\n",
       "2023-11-24   19794.70    19802.00 -0.000369     3.184     3.247     0.063\n",
       "2023-11-28   19889.70    19794.70  0.004788     3.199     3.247     0.048\n",
       "2023-11-29   20096.60    19889.70  0.010349     3.232     3.247     0.015\n",
       "2023-11-30   20133.15    20096.60  0.001817     3.238     3.247     0.009\n",
       "2023-12-01   20267.90    20133.15  0.006671     3.260     3.260     0.000\n",
       "\n",
       "[2454 rows x 6 columns]"
      ]
     },
     "execution_count": 104,
     "metadata": {},
     "output_type": "execute_result"
    }
   ],
   "source": [
    "# Looking up the new dataframe\n",
    "\n",
    "df"
   ]
  },
  {
   "cell_type": "code",
   "execution_count": 106,
   "id": "30ff3e6c",
   "metadata": {},
   "outputs": [
    {
     "data": {
      "text/plain": [
       "0.764"
      ]
     },
     "execution_count": 106,
     "metadata": {},
     "output_type": "execute_result"
    }
   ],
   "source": [
    "# Let's look at the maximum drawndown, which is the difference between the cuml max and the cuml return on each day\n",
    "\n",
    "max_dd = df['Drawdown'].max()\n",
    "max_dd"
   ]
  },
  {
   "cell_type": "code",
   "execution_count": 108,
   "id": "382501ec",
   "metadata": {},
   "outputs": [
    {
     "data": {
      "text/plain": [
       "Timestamp('2020-03-23 00:00:00')"
      ]
     },
     "execution_count": 108,
     "metadata": {},
     "output_type": "execute_result"
    }
   ],
   "source": [
    "# When did the max drawdown occur\n",
    "\n",
    "max_dd_date = df['Drawdown'].idxmax()\n",
    "max_dd_date"
   ]
  },
  {
   "cell_type": "code",
   "execution_count": 112,
   "id": "74efc02b",
   "metadata": {},
   "outputs": [
    {
     "data": {
      "text/plain": [
       "(array([1538], dtype=int64),)"
      ]
     },
     "execution_count": 112,
     "metadata": {},
     "output_type": "execute_result"
    }
   ],
   "source": [
    "# Lets look at the index\n",
    "\n",
    "np.where(df['Drawdown'] == 0.764)"
   ]
  },
  {
   "cell_type": "code",
   "execution_count": 115,
   "id": "6ad7f230",
   "metadata": {},
   "outputs": [
    {
     "data": {
      "text/plain": [
       "Adj Close     7610.250000\n",
       "Prev Close    8745.450000\n",
       "Pct Chg         -0.139038\n",
       "Cuml_Ret         1.224000\n",
       "Cuml_max         1.988000\n",
       "Drawdown         0.764000\n",
       "Name: 2020-03-23 00:00:00, dtype: float64"
      ]
     },
     "execution_count": 115,
     "metadata": {},
     "output_type": "execute_result"
    }
   ],
   "source": [
    "df.iloc[1538]"
   ]
  }
 ],
 "metadata": {
  "kernelspec": {
   "display_name": "Python 3 (ipykernel)",
   "language": "python",
   "name": "python3"
  },
  "language_info": {
   "codemirror_mode": {
    "name": "ipython",
    "version": 3
   },
   "file_extension": ".py",
   "mimetype": "text/x-python",
   "name": "python",
   "nbconvert_exporter": "python",
   "pygments_lexer": "ipython3",
   "version": "3.10.7"
  }
 },
 "nbformat": 4,
 "nbformat_minor": 5
}
